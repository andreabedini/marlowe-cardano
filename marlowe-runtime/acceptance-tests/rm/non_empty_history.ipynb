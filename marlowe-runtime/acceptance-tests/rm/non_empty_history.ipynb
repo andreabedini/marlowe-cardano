{
 "cells": [
  {
   "cell_type": "code",
   "execution_count": 3,
   "id": "c2b997ff-7487-4181-a96d-83057ca11994",
   "metadata": {
    "vscode": {
     "languageId": "shellscript"
    }
   },
   "outputs": [],
   "source": [
    "#!/usr/bin/env bash"
   ]
  },
  {
   "cell_type": "markdown",
   "id": "29ad9b87-6812-4d1b-888b-c255e9be9eae",
   "metadata": {},
   "source": [
    "<span style=\"color: red; font-weight: bold\">Use the following command to launch a server for this notebook:</span>\n",
    "\n",
    "```bash\n",
    "git clone git@github.com:input-output-hk/marlowe-cardano.git\n",
    "cd marlowe-cardano/marlowe-runtime/\n",
    "nix run ../marlowe-cli\n",
    "```\n",
    "\n",
    "Then navigate to the `examples/` folder in Jupyter and open this notebook."
   ]
  },
  {
   "cell_type": "markdown",
   "id": "ff12ef20-4800-40fc-bf1a-b48def801ee9",
   "metadata": {},
   "source": [
    "# Marlowe Runtime CLI rm Command Acceptance tests"
   ]
  },
  {
   "cell_type": "markdown",
   "id": "ab2898c7",
   "metadata": {},
   "source": [
    "## CONTEXT: Marlowe History with State"
   ]
  },
  {
   "cell_type": "markdown",
   "id": "dab2352b-0021-4998-9107-c5cc32d3734c",
   "metadata": {},
   "source": [
    "Record version numbers"
   ]
  },
  {
   "cell_type": "code",
   "execution_count": 4,
   "id": "4832053a-541d-4acd-a781-e7b31a3d28e1",
   "metadata": {
    "vscode": {
     "languageId": "shellscript"
    }
   },
   "outputs": [
    {
     "name": "stdout",
     "output_type": "stream",
     "text": [
      "marlowe-cli 0.0.10.0\n"
     ]
    }
   ],
   "source": [
    "marlowe-cli --version"
   ]
  },
  {
   "cell_type": "code",
   "execution_count": 5,
   "id": "e7651166-5c42-4a2b-8447-3407440f7b5a",
   "metadata": {
    "vscode": {
     "languageId": "shellscript"
    }
   },
   "outputs": [
    {
     "name": "stdout",
     "output_type": "stream",
     "text": [
      "cardano-cli 1.35.3 - linux-x86_64 - ghc-8.10\n",
      "git rev 0000000000000000000000000000000000000000\n"
     ]
    }
   ],
   "source": [
    "cardano-cli --version"
   ]
  },
  {
   "cell_type": "code",
   "execution_count": 6,
   "id": "0434d927-022f-41f6-b60f-091ebe85cfc4",
   "metadata": {
    "vscode": {
     "languageId": "shellscript"
    }
   },
   "outputs": [
    {
     "name": "stdout",
     "output_type": "stream",
     "text": [
      "fdffdfb721f6fc013021ce91c0b23042106529fe\n"
     ]
    }
   ],
   "source": [
    "git rev-parse HEAD"
   ]
  },
  {
   "cell_type": "markdown",
   "id": "1bf9d006-26c4-49d9-9488-8d07021b043a",
   "metadata": {},
   "source": [
    "Set up state for test scenarios"
   ]
  },
  {
   "cell_type": "code",
   "execution_count": 7,
   "id": "fccb26bb",
   "metadata": {
    "vscode": {
     "languageId": "shellscript"
    }
   },
   "outputs": [],
   "source": [
    "OLD_CONTRACT_ID=06b5a9fe7e9868648671333ee1a5ece61af9019b12251b68f1e9fc01cd7a12b2#1\n",
    "NEW_CONTRACT_ID=02811e36c6cdac4721b53f718c4a1406e09ef0d985f9ad6b7fd676769e2f866c#1"
   ]
  },
  {
   "cell_type": "markdown",
   "id": "e7cf6123",
   "metadata": {},
   "source": [
    "    Scenario: Two contracts registered in history, remove one\n",
    "      Given the current contract is managed by history\n",
    "      And another contract is managed by history\n",
    "      When I enter `marlowe rm $OLD_CONTRACT_ID` on the terminal\n",
    "      Then I should see \"$NEW_CONTRACT_ID\" on the Marlowe History List\n",
    "      And I should not see \"$OLD_CONTRACT_ID\" on the Marlowe History List"
   ]
  },
  {
   "cell_type": "code",
   "execution_count": 9,
   "id": "ce6f4e7a",
   "metadata": {
    "vscode": {
     "languageId": "shellscript"
    }
   },
   "outputs": [
    {
     "name": "stdout",
     "output_type": "stream",
     "text": [
      "06b5a9fe7e9868648671333ee1a5ece61af9019b12251b68f1e9fc01cd7a12b2#1\n",
      "06b5a9fe7e9868648671333ee1a5ece61af9019b12251b68f1e9fc01cd7a12b2#1\n"
     ]
    }
   ],
   "source": [
    "marlowe add $OLD_CONTRACT_ID\n",
    "marlowe add $NEW_CONTRACT_ID\n",
    "\n",
    "marlowe rm $OLD_CONTRACT_ID"
   ]
  },
  {
   "cell_type": "code",
   "execution_count": 11,
   "id": "49008148",
   "metadata": {
    "vscode": {
     "languageId": "shellscript"
    }
   },
   "outputs": [
    {
     "name": "stdout",
     "output_type": "stream",
     "text": [
      "00c802d5a069effd17cf5f9032100301ddef10afe127f90c868c631e26b9c339#1\n",
      "06b5a9fe7e9868648671333ee1a5ece61af9019b12251b68f1e9fc01cd7a12b2#1\n",
      "0c0cd04970d7af056cc4fac9c4e7877306f57bd38cc8f4050e88f700593a64d3#1\n",
      "323eebfe6878b27512ad0fe3b81b5aeac58d28cacfa0efc6fa769aa34ef43b7e#1\n",
      "436afc4cbd7a63cf5962c93ac030eee4fb5cae3bd94d29a3a8d3f8aa9710a307#1\n",
      "630fc7b2866f949bc005fa1db60b13ef142a9014bc5ceedfc60aff0f7bc0bc6d#1\n",
      "7b10a0cd49c4db784a6bb1ec9a94ddd5c68a0ecb146862a8a93b2d4aec198e9b#1\n",
      "8e86cb00dd3bb43760df90d593402ed7dedfa74f6672db2bb2a276303c879f1b#1\n",
      "e1f499b1727394f00b475e1b8cd47f96476a0175cd78887aac55fcd4dc211faf#1\n"
     ]
    }
   ],
   "source": [
    "marlowe ls"
   ]
  },
  {
   "cell_type": "markdown",
   "id": "260ea541",
   "metadata": {},
   "source": [
    "Actual Result:"
   ]
  },
  {
   "cell_type": "code",
   "execution_count": 1,
   "id": "49b74157",
   "metadata": {
    "vscode": {
     "languageId": "shellscript"
    }
   },
   "outputs": [
    {
     "name": "stdout",
     "output_type": "stream",
     "text": [
      "06b5a9fe7e9868648671333ee1a5ece61af9019b12251b68f1e9fc01cd7a12b2#1\n"
     ]
    }
   ],
   "source": [
    "marlowe ls"
   ]
  },
  {
   "cell_type": "markdown",
   "id": "d83a36af",
   "metadata": {},
   "source": [
    "Expected Result: 02811e36c6cdac4721b53f718c4a1406e09ef0d985f9ad6b7fd676769e2f866c#1"
   ]
  },
  {
   "cell_type": "markdown",
   "id": "9fec920d",
   "metadata": {},
   "source": []
  },
  {
   "cell_type": "markdown",
   "id": "fe58f441",
   "metadata": {},
   "source": [
    "    Scenario: One contract managed in history, remove non existing contract\n",
    "      Given one contract is managed in history\n",
    "      When I enter `marlowe rm $NEW_CONTRACT_ID` on the terminal\n",
    "      Then I should see an error message saying \"contract id not managed on history\""
   ]
  },
  {
   "cell_type": "markdown",
   "id": "20c4192d",
   "metadata": {},
   "source": [
    "Actual Result:"
   ]
  },
  {
   "cell_type": "code",
   "execution_count": 2,
   "id": "0e4ceeb0-350f-464b-86ea-e36b98ec06ff",
   "metadata": {
    "vscode": {
     "languageId": "shellscript"
    }
   },
   "outputs": [],
   "source": [
    "# TODO: Implement --all flag\n",
    "# marlowe rm --all\n",
    "marlowe add $OLD_CONTRACT_ID \n",
    "marlowe rm $NEW_CONTRACT_ID"
   ]
  },
  {
   "cell_type": "markdown",
   "id": "99b04b6e",
   "metadata": {},
   "source": [
    "Expected result: \"Error: Contract ID not managed in history\""
   ]
  },
  {
   "cell_type": "markdown",
   "id": "fe58f441",
   "metadata": {},
   "source": [
    "    Scenario: Remove the only contract in history\n",
    "      Given one contract is managed in history\n",
    "      When I enter `marlowe rm $OLD_CONTRACT_ID` on the terminal\n",
    "      And I enter `marlowe ls` on the terminal\n",
    "      Then I should see no contracts managed in history"
   ]
  },
  {
   "cell_type": "code",
   "execution_count": null,
   "id": "0e4ceeb0-350f-464b-86ea-e36b98ec06ff",
   "metadata": {
    "vscode": {
     "languageId": "shellscript"
    }
   },
   "outputs": [],
   "source": [
    "# TODO: Implement --all flag\n",
    "# marlowe rm --all\n",
    "marlowe add $OLD_CONTRACT_ID \n",
    "marlowe rm $OLD_CONTRACT_ID"
   ]
  }
 ],
 "metadata": {
  "kernelspec": {
   "display_name": "Bash - Marlowe",
   "language": "bash",
   "name": "bash_marlowe"
  },
  "language_info": {
   "codemirror_mode": "shell",
   "file_extension": ".sh",
   "mimetype": "text/x-sh",
   "name": "bash"
  }
 },
 "nbformat": 4,
 "nbformat_minor": 5
}
